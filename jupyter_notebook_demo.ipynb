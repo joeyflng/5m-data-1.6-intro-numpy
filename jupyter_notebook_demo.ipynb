{
 "cells": [
  {
   "cell_type": "markdown",
   "id": "698edcbe",
   "metadata": {},
   "source": [
    "###t Heading 3 for markdown test\n",
    "> blockcode\n",
    "**i'm a bold text**\n",
    "*I'm an italic*\n",
    "1. this is to test markdown code\n",
    "2. This is a ordered list \n",
    "- This is an unordered list\n",
    "- unordered list continued\n",
    "\n",
    "`print (1)`\n",
    "\n",
    "------------------------ Horizonal Rule ------------\n",
    "\n",
    "[click me](https://localhost:8888/)"
   ]
  },
  {
   "cell_type": "code",
   "execution_count": 3,
   "id": "ac2f0bad",
   "metadata": {},
   "outputs": [
    {
     "name": "stdout",
     "output_type": "stream",
     "text": [
      "1\n",
      "Exiting the loop.\n"
     ]
    }
   ],
   "source": [
    "print (1)\n",
    "while True:\n",
    "    response = input(\"do you want to continue? (yes/no):\")\n",
    "    if response.lower() == 'no':    \n",
    "        print(\"Exiting the loop.\")\n",
    "        break"
   ]
  },
  {
   "cell_type": "code",
   "execution_count": 5,
   "id": "47734ad6",
   "metadata": {},
   "outputs": [
    {
     "name": "stdout",
     "output_type": "stream",
     "text": [
      "904 μs ± 21.4 μs per loop (mean ± std. dev. of 7 runs, 1,000 loops each)\n",
      "90.9 ms ± 7.23 ms per loop (mean ± std. dev. of 7 runs, 10 loops each)\n"
     ]
    }
   ],
   "source": [
    "import numpy as np  \n",
    "my_arr = np.arange(1_000_000)\n",
    "my_list = list(range(1_000_000))\n",
    "%timeit my_arr2 = my_arr * 2\n",
    "\n",
    "%timeit my_arr2 = [x * 2 for x in my_list]\n"
   ]
  },
  {
   "cell_type": "code",
   "execution_count": null,
   "id": "3be5e357",
   "metadata": {},
   "outputs": [
    {
     "data": {
      "text/plain": [
       "dtype('float64')"
      ]
     },
     "execution_count": 26,
     "metadata": {},
     "output_type": "execute_result"
    }
   ],
   "source": [
    "data = np.array([1.5, -0.1,3])\n",
    "data\n",
    "data * 10\n",
    "data * data\n",
    "data.shape\n",
    "data.dtype\n",
    "\n",
    "\n"
   ]
  },
  {
   "cell_type": "code",
   "execution_count": 28,
   "id": "4cf1ef18",
   "metadata": {},
   "outputs": [
    {
     "data": {
      "text/plain": [
       "array([6. , 7.5, 8. , 0. , 1. ])"
      ]
     },
     "execution_count": 28,
     "metadata": {},
     "output_type": "execute_result"
    }
   ],
   "source": [
    "d1 = [6,7.5,8,0,1]\n",
    "\n",
    "a1 = np.array(d1)\n",
    "\n",
    "a1\n"
   ]
  },
  {
   "cell_type": "code",
   "execution_count": 33,
   "id": "887a4fb0",
   "metadata": {},
   "outputs": [
    {
     "data": {
      "text/plain": [
       "dtype('int64')"
      ]
     },
     "execution_count": 33,
     "metadata": {},
     "output_type": "execute_result"
    }
   ],
   "source": [
    "d2 = [[1,2,3,4],[5,6,7,8]]\n",
    "a2 = np.array(d2)\n",
    "a2.dtype\n"
   ]
  },
  {
   "cell_type": "code",
   "execution_count": null,
   "id": "92b9427d",
   "metadata": {},
   "outputs": [
    {
     "data": {
      "text/plain": [
       "(2, 4)"
      ]
     },
     "execution_count": 34,
     "metadata": {},
     "output_type": "execute_result"
    }
   ],
   "source": []
  },
  {
   "cell_type": "code",
   "execution_count": 35,
   "id": "876d9aad",
   "metadata": {},
   "outputs": [
    {
     "data": {
      "text/plain": [
       "2"
      ]
     },
     "execution_count": 35,
     "metadata": {},
     "output_type": "execute_result"
    }
   ],
   "source": [
    "a2.ndim\n",
    "\n"
   ]
  },
  {
   "cell_type": "code",
   "execution_count": 36,
   "id": "29607544",
   "metadata": {},
   "outputs": [
    {
     "data": {
      "text/plain": [
       "array([0., 0., 0., 0., 0.])"
      ]
     },
     "execution_count": 36,
     "metadata": {},
     "output_type": "execute_result"
    }
   ],
   "source": [
    "np.zeros(5)"
   ]
  },
  {
   "cell_type": "code",
   "execution_count": 39,
   "id": "99ce2cba",
   "metadata": {},
   "outputs": [
    {
     "data": {
      "text/plain": [
       "array([[0., 0., 0., 0., 0., 0.],\n",
       "       [0., 0., 0., 0., 0., 0.],\n",
       "       [0., 0., 0., 0., 0., 0.]])"
      ]
     },
     "execution_count": 39,
     "metadata": {},
     "output_type": "execute_result"
    }
   ],
   "source": [
    "np.zeros((3,6))"
   ]
  }
 ],
 "metadata": {
  "kernelspec": {
   "display_name": "pds",
   "language": "python",
   "name": "python3"
  },
  "language_info": {
   "codemirror_mode": {
    "name": "ipython",
    "version": 3
   },
   "file_extension": ".py",
   "mimetype": "text/x-python",
   "name": "python",
   "nbconvert_exporter": "python",
   "pygments_lexer": "ipython3",
   "version": "3.10.18"
  }
 },
 "nbformat": 4,
 "nbformat_minor": 5
}
