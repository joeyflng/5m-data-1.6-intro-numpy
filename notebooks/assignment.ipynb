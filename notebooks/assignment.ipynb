{
 "cells": [
  {
   "cell_type": "markdown",
   "id": "e25af6b2",
   "metadata": {},
   "source": [
    "# Assignment\n",
    "\n",
    "## Brief\n",
    "\n",
    "Write the Python codes for the following questions.\n",
    "\n",
    "## Instructions\n",
    "\n",
    "Paste the answer as Python in the answer code section below each question.\n",
    "\n",
    "### Question 1\n",
    "\n",
    "Given the following numpy array:\n",
    "\n",
    "```python\n",
    "arr = np.array([1, 2, 3, 4, 5])\n",
    "```\n",
    "\n",
    "Write a Python code to multiply each element in the array by 2.\n",
    "\n",
    "Answer:\n"
   ]
  },
  {
   "cell_type": "code",
   "execution_count": 2,
   "id": "9ff6ab3c",
   "metadata": {},
   "outputs": [
    {
     "data": {
      "text/plain": [
       "array([ 2,  4,  6,  8, 10])"
      ]
     },
     "execution_count": 2,
     "metadata": {},
     "output_type": "execute_result"
    }
   ],
   "source": [
    "import numpy as np\n",
    "arr = np.array([1, 2, 3, 4, 5])\n",
    "arr = arr * 2\n",
    "arr"
   ]
  },
  {
   "cell_type": "markdown",
   "id": "962e74f9",
   "metadata": {},
   "source": [
    "### Question 2\n",
    "\n",
    "Given the following 2D numpy array:\n",
    "\n",
    "```python\n",
    "arr = np.array([[1, 2, 3], [4, 5, 6], [7, 8, 9]])\n",
    "```\n",
    "\n",
    "Write a Python code to select the second row of the array.\n",
    "\n",
    "Answer:"
   ]
  },
  {
   "cell_type": "code",
   "execution_count": 3,
   "id": "2faaec37",
   "metadata": {},
   "outputs": [
    {
     "data": {
      "text/plain": [
       "array([4, 5, 6])"
      ]
     },
     "execution_count": 3,
     "metadata": {},
     "output_type": "execute_result"
    }
   ],
   "source": [
    "arr = np.array([[1, 2, 3], [4, 5, 6], [7, 8, 9]])\n",
    "arr [1]"
   ]
  },
  {
   "cell_type": "markdown",
   "id": "800561cf",
   "metadata": {},
   "source": [
    "### Question 3\n",
    "\n",
    "Create a 2D numpy array of shape (5, 5) filled with the number 1.\n",
    "\n",
    "Answer:"
   ]
  },
  {
   "cell_type": "code",
   "execution_count": 4,
   "id": "1df233c9",
   "metadata": {},
   "outputs": [
    {
     "data": {
      "text/plain": [
       "array([[1., 1., 1., 1., 1.],\n",
       "       [1., 1., 1., 1., 1.],\n",
       "       [1., 1., 1., 1., 1.],\n",
       "       [1., 1., 1., 1., 1.],\n",
       "       [1., 1., 1., 1., 1.]])"
      ]
     },
     "execution_count": 4,
     "metadata": {},
     "output_type": "execute_result"
    }
   ],
   "source": [
    "arr = np.ones((5,5))\n",
    "arr"
   ]
  },
  {
   "cell_type": "markdown",
   "id": "488f5122",
   "metadata": {},
   "source": [
    "\n",
    "### Question 4\n",
    "\n",
    "Given the following 2D numpy array:\n",
    "\n",
    "```python\n",
    "arr = np.array([[1, 2, 3], [4, 5, 6], [7, 8, 9]])\n",
    "```\n",
    "\n",
    "Write a Python code to calculate the sum of all the elements in each row.\n",
    "\n",
    "Answer:"
   ]
  },
  {
   "cell_type": "code",
   "execution_count": 7,
   "id": "180083f5",
   "metadata": {},
   "outputs": [
    {
     "data": {
      "text/plain": [
       "array([ 6, 15, 24])"
      ]
     },
     "execution_count": 7,
     "metadata": {},
     "output_type": "execute_result"
    }
   ],
   "source": [
    "arr = np.array([[1, 2, 3], [4, 5, 6], [7, 8, 9]])\n",
    "arr.sum(axis=1)"
   ]
  },
  {
   "cell_type": "markdown",
   "id": "46ffe666",
   "metadata": {},
   "source": [
    "### Question 5\n",
    "\n",
    "Given the following 2D numpy array:\n",
    "\n",
    "```python\n",
    "arr = np.array([[1, 2, 3], [4, 5, 6], [7, 8, 9]])\n",
    "```\n",
    "\n",
    "Write a Python code to calculate the average of all the elements.\n",
    "\n",
    "Answer:\n"
   ]
  },
  {
   "cell_type": "code",
   "execution_count": 1,
   "id": "b9ed415c",
   "metadata": {},
   "outputs": [
    {
     "ename": "NameError",
     "evalue": "name 'np' is not defined",
     "output_type": "error",
     "traceback": [
      "\u001b[0;31m---------------------------------------------------------------------------\u001b[0m",
      "\u001b[0;31mNameError\u001b[0m                                 Traceback (most recent call last)",
      "Cell \u001b[0;32mIn[1], line 1\u001b[0m\n\u001b[0;32m----> 1\u001b[0m arr \u001b[38;5;241m=\u001b[39m \u001b[43mnp\u001b[49m\u001b[38;5;241m.\u001b[39marray([[\u001b[38;5;241m1\u001b[39m, \u001b[38;5;241m2\u001b[39m, \u001b[38;5;241m3\u001b[39m], [\u001b[38;5;241m4\u001b[39m, \u001b[38;5;241m5\u001b[39m, \u001b[38;5;241m6\u001b[39m], [\u001b[38;5;241m7\u001b[39m, \u001b[38;5;241m8\u001b[39m, \u001b[38;5;241m9\u001b[39m]])\n\u001b[1;32m      2\u001b[0m arr\u001b[38;5;241m.\u001b[39mmean()\n",
      "\u001b[0;31mNameError\u001b[0m: name 'np' is not defined"
     ]
    }
   ],
   "source": [
    "arr = np.array([[1, 2, 3], [4, 5, 6], [7, 8, 9]])\n",
    "arr.mean()"
   ]
  }
 ],
 "metadata": {
  "kernelspec": {
   "display_name": "pds",
   "language": "python",
   "name": "python3"
  },
  "language_info": {
   "codemirror_mode": {
    "name": "ipython",
    "version": 3
   },
   "file_extension": ".py",
   "mimetype": "text/x-python",
   "name": "python",
   "nbconvert_exporter": "python",
   "pygments_lexer": "ipython3",
   "version": "3.10.18"
  }
 },
 "nbformat": 4,
 "nbformat_minor": 5
}
