{
 "cells": [
  {
   "cell_type": "code",
   "execution_count": 1,
   "id": "9b63580b",
   "metadata": {},
   "outputs": [
    {
     "data": {
      "text/plain": [
       "array([0., 0., 0., 0., 0.])"
      ]
     },
     "execution_count": 1,
     "metadata": {},
     "output_type": "execute_result"
    }
   ],
   "source": [
    "import numpy as np\n",
    "\n",
    "a1 = np.zeros(5)\n",
    "a1"
   ]
  },
  {
   "cell_type": "code",
   "execution_count": 2,
   "id": "33d3dac2",
   "metadata": {},
   "outputs": [
    {
     "data": {
      "text/plain": [
       "array([1., 1., 1.])"
      ]
     },
     "execution_count": 2,
     "metadata": {},
     "output_type": "execute_result"
    }
   ],
   "source": [
    "a2 = np.ones(3)\n",
    "a2"
   ]
  },
  {
   "cell_type": "code",
   "execution_count": 3,
   "id": "a96ad155",
   "metadata": {},
   "outputs": [
    {
     "data": {
      "text/plain": [
       "dtype('float64')"
      ]
     },
     "execution_count": 3,
     "metadata": {},
     "output_type": "execute_result"
    }
   ],
   "source": [
    "a1 = np.array([1, 2, 3], dtype=np.float64)\n",
    "a1\n",
    "a1.dtype\n",
    "\n"
   ]
  },
  {
   "cell_type": "code",
   "execution_count": 4,
   "id": "d787628f",
   "metadata": {},
   "outputs": [
    {
     "data": {
      "text/plain": [
       "array([1, 2, 3])"
      ]
     },
     "execution_count": 4,
     "metadata": {},
     "output_type": "execute_result"
    }
   ],
   "source": [
    "a2=np.array([1, 2, 3], dtype=np.int32)\n",
    "a2.dtype\n",
    "a2.astype(int)\n"
   ]
  },
  {
   "cell_type": "code",
   "execution_count": 5,
   "id": "04831a43",
   "metadata": {},
   "outputs": [
    {
     "data": {
      "text/plain": [
       "dtype('int64')"
      ]
     },
     "execution_count": 5,
     "metadata": {},
     "output_type": "execute_result"
    }
   ],
   "source": [
    "arr = np.array([1, 2, 3, 4, 5])\n",
    "arr.dtype"
   ]
  },
  {
   "cell_type": "code",
   "execution_count": 6,
   "id": "1e0ac105",
   "metadata": {},
   "outputs": [
    {
     "data": {
      "text/plain": [
       "array([1., 2., 3., 4., 5.])"
      ]
     },
     "execution_count": 6,
     "metadata": {},
     "output_type": "execute_result"
    }
   ],
   "source": [
    "float_arr=arr.astype(np.float64)\n",
    "float_arr\n",
    "#float_arr.dtype\n"
   ]
  },
  {
   "cell_type": "code",
   "execution_count": 7,
   "id": "5c97536a",
   "metadata": {},
   "outputs": [
    {
     "data": {
      "text/plain": [
       "array([ 3, -1, -2,  0, 12, 10], dtype=int32)"
      ]
     },
     "execution_count": 7,
     "metadata": {},
     "output_type": "execute_result"
    }
   ],
   "source": [
    "arr = np.array([3.7, -1.2, -2.6, 0.5, 12.9, 10.1])\n",
    "int_arr = arr.astype(np.int32)\n",
    "int_arr"
   ]
  },
  {
   "cell_type": "code",
   "execution_count": 8,
   "id": "e82c1a11",
   "metadata": {},
   "outputs": [
    {
     "data": {
      "text/plain": [
       "array([b'1.25', b'-9.6', b'42'], dtype='|S4')"
      ]
     },
     "execution_count": 8,
     "metadata": {},
     "output_type": "execute_result"
    }
   ],
   "source": [
    "n_string = np.array(['1.25','-9.6','42'], dtype=np.string_)\n",
    "n_string\n"
   ]
  },
  {
   "cell_type": "code",
   "execution_count": 9,
   "id": "da0ebd79",
   "metadata": {},
   "outputs": [
    {
     "data": {
      "text/plain": [
       "array([ 1.25, -9.6 , 42.  ])"
      ]
     },
     "execution_count": 9,
     "metadata": {},
     "output_type": "execute_result"
    }
   ],
   "source": [
    "n_string.astype(np.float64)\n"
   ]
  },
  {
   "cell_type": "code",
   "execution_count": 10,
   "id": "d62e75c9",
   "metadata": {},
   "outputs": [
    {
     "data": {
      "text/plain": [
       "array([ 1.25, -9.6 , 42.  ])"
      ]
     },
     "execution_count": 10,
     "metadata": {},
     "output_type": "execute_result"
    }
   ],
   "source": [
    "n_string.astype(float)\n"
   ]
  },
  {
   "cell_type": "code",
   "execution_count": 11,
   "id": "0a89f8c1",
   "metadata": {},
   "outputs": [
    {
     "data": {
      "text/plain": [
       "array([[1., 2., 3., 4.],\n",
       "       [2., 2., 3., 4.],\n",
       "       [3., 2., 3., 4.]])"
      ]
     },
     "execution_count": 11,
     "metadata": {},
     "output_type": "execute_result"
    }
   ],
   "source": [
    "a1 = np.array([[1,2,3,4], [2,2,3,4],[3,2,3,4]],dtype=np.float64)\n",
    "a1"
   ]
  },
  {
   "cell_type": "code",
   "execution_count": 12,
   "id": "fc76a420",
   "metadata": {},
   "outputs": [
    {
     "data": {
      "text/plain": [
       "array([[1., 2., 3., 4.],\n",
       "       [2., 2., 3., 4.],\n",
       "       [3., 2., 3., 4.]])"
      ]
     },
     "execution_count": 12,
     "metadata": {},
     "output_type": "execute_result"
    }
   ],
   "source": [
    "a1.astype(np.float32)   \n",
    "a1"
   ]
  },
  {
   "cell_type": "code",
   "execution_count": 13,
   "id": "e3ace739",
   "metadata": {},
   "outputs": [
    {
     "data": {
      "text/plain": [
       "array([[0, 0, 0],\n",
       "       [0, 0, 0]])"
      ]
     },
     "execution_count": 13,
     "metadata": {},
     "output_type": "execute_result"
    }
   ],
   "source": [
    "arr = np.array([[1,2,3],[4,5,6]])\n",
    "arr + arr\n",
    "arr * arr\n",
    "arr - arr\n",
    "\n"
   ]
  },
  {
   "cell_type": "code",
   "execution_count": 14,
   "id": "3f2a7367",
   "metadata": {},
   "outputs": [
    {
     "data": {
      "text/plain": [
       "array([[2, 3, 4],\n",
       "       [5, 6, 7]])"
      ]
     },
     "execution_count": 14,
     "metadata": {},
     "output_type": "execute_result"
    }
   ],
   "source": [
    "arr + np.array([1,1,1])\n"
   ]
  },
  {
   "cell_type": "code",
   "execution_count": 15,
   "id": "19100e60",
   "metadata": {},
   "outputs": [
    {
     "data": {
      "text/plain": [
       "array([5, 6, 7, 8])"
      ]
     },
     "execution_count": 15,
     "metadata": {},
     "output_type": "execute_result"
    }
   ],
   "source": [
    "arr1 = np.array([1,2,3,4])\n",
    "arr1 + 4  #broadcasting [4,4,4,4]\n",
    "\n",
    "\n"
   ]
  },
  {
   "cell_type": "code",
   "execution_count": 16,
   "id": "f3d0896d",
   "metadata": {},
   "outputs": [
    {
     "data": {
      "text/plain": [
       "array([ 1,  4,  9, 16])"
      ]
     },
     "execution_count": 16,
     "metadata": {},
     "output_type": "execute_result"
    }
   ],
   "source": [
    "arr1 ** 2"
   ]
  },
  {
   "cell_type": "code",
   "execution_count": 17,
   "id": "c803ac82",
   "metadata": {},
   "outputs": [
    {
     "data": {
      "text/plain": [
       "array([1.        , 0.5       , 0.33333333, 0.25      ])"
      ]
     },
     "execution_count": 17,
     "metadata": {},
     "output_type": "execute_result"
    }
   ],
   "source": [
    "1/arr1"
   ]
  },
  {
   "cell_type": "code",
   "execution_count": 18,
   "id": "981a5272",
   "metadata": {},
   "outputs": [
    {
     "data": {
      "text/plain": [
       "array([[ 0.,  4.,  1.],\n",
       "       [ 7.,  2., 12.]])"
      ]
     },
     "execution_count": 18,
     "metadata": {},
     "output_type": "execute_result"
    }
   ],
   "source": [
    "arr2 = np.array([[0.,4,1],[7.,2,12]])\n",
    "arr2\n"
   ]
  },
  {
   "cell_type": "code",
   "execution_count": 19,
   "id": "71b8ac69",
   "metadata": {},
   "outputs": [
    {
     "data": {
      "text/plain": [
       "array([[ True, False,  True],\n",
       "       [False,  True, False]])"
      ]
     },
     "execution_count": 19,
     "metadata": {},
     "output_type": "execute_result"
    }
   ],
   "source": [
    "arr2<arr\n"
   ]
  },
  {
   "cell_type": "code",
   "execution_count": 20,
   "id": "bc165fe1",
   "metadata": {},
   "outputs": [
    {
     "data": {
      "text/plain": [
       "array([0, 1, 2, 3, 4, 5, 6, 7, 8, 9])"
      ]
     },
     "execution_count": 20,
     "metadata": {},
     "output_type": "execute_result"
    }
   ],
   "source": [
    "arr = np.arange(10)\n",
    "arr"
   ]
  },
  {
   "cell_type": "code",
   "execution_count": 21,
   "id": "09dcefb0",
   "metadata": {},
   "outputs": [
    {
     "data": {
      "text/plain": [
       "5"
      ]
     },
     "execution_count": 21,
     "metadata": {},
     "output_type": "execute_result"
    }
   ],
   "source": [
    "arr[5]"
   ]
  },
  {
   "cell_type": "code",
   "execution_count": 22,
   "id": "3126c000",
   "metadata": {},
   "outputs": [
    {
     "data": {
      "text/plain": [
       "array([5, 6, 7])"
      ]
     },
     "execution_count": 22,
     "metadata": {},
     "output_type": "execute_result"
    }
   ],
   "source": [
    "arr[5:8]"
   ]
  },
  {
   "cell_type": "code",
   "execution_count": 23,
   "id": "a45210ad",
   "metadata": {},
   "outputs": [
    {
     "data": {
      "text/plain": [
       "array([ 0,  1,  2,  3,  4, 12, 12, 12,  8,  9])"
      ]
     },
     "execution_count": 23,
     "metadata": {},
     "output_type": "execute_result"
    }
   ],
   "source": [
    "arr[5:8]=12\n",
    "arr"
   ]
  },
  {
   "cell_type": "code",
   "execution_count": 24,
   "id": "123a1808",
   "metadata": {},
   "outputs": [
    {
     "data": {
      "text/plain": [
       "array([ 0,  1,  2,  3,  4, 12, 10, 12,  8,  9])"
      ]
     },
     "execution_count": 24,
     "metadata": {},
     "output_type": "execute_result"
    }
   ],
   "source": [
    "arr_slice = arr[5:8]\n",
    "arr_slice\n",
    "arr_slice[1]=10\n",
    "arr\n"
   ]
  },
  {
   "cell_type": "code",
   "execution_count": 25,
   "id": "cb759e61",
   "metadata": {},
   "outputs": [
    {
     "data": {
      "text/plain": [
       "array([ 0,  1,  2,  3,  4, 64, 64, 64,  8,  9])"
      ]
     },
     "execution_count": 25,
     "metadata": {},
     "output_type": "execute_result"
    }
   ],
   "source": [
    "arr[:]=64\n",
    "arr\n",
    "\n",
    "arr =np.arange(10)\n",
    "arr\n",
    "\n",
    "arr[5:8]  = 12\n",
    "\n",
    "arr_slice=arr[5:8]\n",
    "arr_slice [1] = 10\n",
    "arr\n",
    "arr_slice[:]=64\n",
    "arr\n"
   ]
  },
  {
   "cell_type": "code",
   "execution_count": 26,
   "id": "3fd11088",
   "metadata": {},
   "outputs": [
    {
     "data": {
      "text/plain": [
       "(1, 3)"
      ]
     },
     "execution_count": 26,
     "metadata": {},
     "output_type": "execute_result"
    }
   ],
   "source": [
    "arr_2d = np.array([[1,2,3],[4,5,6],[7,8,9]])\n",
    "arr_2d[1]\n",
    "arr_2d[1,2]\n",
    "arr_2d[2,2]\n",
    "arr_2d[:2]\n",
    "arr_2d[:2,1:]\n",
    "arr_2d[1,:2]\n",
    "arr_2d[:,:1]\n",
    "arr_2d[:,:1].shape\n",
    "arr_2d[:1]\n",
    "arr_2d[:1,:]\n",
    "arr_2d[0,:]\n",
    "arr_2d[:1,:].shape"
   ]
  },
  {
   "cell_type": "code",
   "execution_count": 27,
   "id": "a008d6ba",
   "metadata": {},
   "outputs": [
    {
     "data": {
      "text/plain": [
       "array([1, 2, 3, 4, 5, 6, 7, 8, 9])"
      ]
     },
     "execution_count": 27,
     "metadata": {},
     "output_type": "execute_result"
    }
   ],
   "source": [
    "\n",
    "arr_1d = np.arange(1,10)\n",
    "arr_1d"
   ]
  },
  {
   "cell_type": "code",
   "execution_count": 28,
   "id": "2cf03230",
   "metadata": {},
   "outputs": [
    {
     "data": {
      "text/plain": [
       "array([['1', '2', '3'],\n",
       "       ['---', '---', '---'],\n",
       "       ['4', '-1', '-1'],\n",
       "       ['7', '8', '9']], dtype='<U21')"
      ]
     },
     "execution_count": 28,
     "metadata": {},
     "output_type": "execute_result"
    }
   ],
   "source": [
    "arr_1d = np.arange(1,10)\n",
    "\n",
    "arr_2d = np.array([arr_1d[:3],arr_1d[3:6],arr_1d[6:]])\n",
    "#arr_2d\n",
    "arr_tmp = arr_2d[1,1:]\n",
    "\n",
    "arr_tmp = arr_tmp - (arr_tmp+1)\n",
    "#arr_tmp\n",
    "arr_2d [1,1:] = arr_tmp\n",
    "\n",
    "#arr_2d\n",
    "\n",
    "new_row = np.array([['---','---','---']])\n",
    "#new_row\n",
    "\n",
    "                   \n",
    "arr_2d = np.append(arr_2d,new_row,axis=0)\n",
    "#arr_2d\n",
    "arr_slice1 = arr_2d[0,:]\n",
    "#arr_slice1\n",
    "\n",
    "arr_slice2 = arr_2d[1,:]\n",
    "#arr_slice2\n",
    "\n",
    "arr_slice3 = arr_2d[2,:]\n",
    "#arr_slice3\n",
    "\n",
    "arr_slice3 = arr_2d[2,:]\n",
    "#arr_slice3\n",
    "\n",
    "arr_slice4 = arr_2d[3,:]\n",
    "#arr_slice4\n",
    "\n",
    "#arr_slice4 \n",
    "\n",
    "new_order = [0,3,1,2]\n",
    "\n",
    "\n",
    "arr_2d [new_order]\n",
    "\n",
    "\n",
    "\n",
    "\n",
    "\n",
    "\n",
    "\n",
    "\n"
   ]
  },
  {
   "cell_type": "code",
   "execution_count": 29,
   "id": "7895adaa",
   "metadata": {},
   "outputs": [
    {
     "data": {
      "text/plain": [
       "array([80, 77])"
      ]
     },
     "execution_count": 29,
     "metadata": {},
     "output_type": "execute_result"
    }
   ],
   "source": [
    "\n",
    "names = np.array(['Bob', 'Joe', 'Will', 'Bob', 'Will', 'Joe', 'Joe'])\n",
    "scores = np.array([[75, 80], [85, 90], [95, 100], [100, 77], [85, 92], [95, 80], [72, 80]])\n",
    "scores\n",
    "\n",
    "names == 'Bob'\n",
    "scores[names == 'Bob',1]\n"
   ]
  },
  {
   "cell_type": "code",
   "execution_count": 30,
   "id": "1466b083",
   "metadata": {},
   "outputs": [
    {
     "data": {
      "text/plain": [
       "array([[ 75,  80],\n",
       "       [ 95, 100],\n",
       "       [100,  77],\n",
       "       [ 85,  92]])"
      ]
     },
     "execution_count": 30,
     "metadata": {},
     "output_type": "execute_result"
    }
   ],
   "source": [
    "scores[~(names=='Joe')]\n"
   ]
  },
  {
   "cell_type": "code",
   "execution_count": 31,
   "id": "c89bb866",
   "metadata": {},
   "outputs": [
    {
     "data": {
      "text/plain": [
       "array([False,  True, False, False, False,  True,  True])"
      ]
     },
     "execution_count": 31,
     "metadata": {},
     "output_type": "execute_result"
    }
   ],
   "source": [
    "names=='Joe'\n"
   ]
  },
  {
   "cell_type": "code",
   "execution_count": 32,
   "id": "f60684df",
   "metadata": {},
   "outputs": [
    {
     "data": {
      "text/plain": [
       "array([75, 77, 72])"
      ]
     },
     "execution_count": 32,
     "metadata": {},
     "output_type": "execute_result"
    }
   ],
   "source": [
    "\n",
    "mask = (names == 'Bob')| (names == 'Joe')\n",
    "mask\n",
    "scores[mask]\n",
    "scores[scores<80]"
   ]
  },
  {
   "cell_type": "code",
   "execution_count": 33,
   "id": "f4f0075c",
   "metadata": {},
   "outputs": [
    {
     "data": {
      "text/plain": [
       "array([[0., 0., 0., 0.],\n",
       "       [1., 1., 1., 1.],\n",
       "       [2., 2., 2., 2.],\n",
       "       [3., 3., 3., 3.],\n",
       "       [4., 4., 4., 4.],\n",
       "       [5., 5., 5., 5.],\n",
       "       [6., 6., 6., 6.],\n",
       "       [7., 7., 7., 7.]])"
      ]
     },
     "execution_count": 33,
     "metadata": {},
     "output_type": "execute_result"
    }
   ],
   "source": [
    "narr = np.zeros((8,4))\n",
    "narr\n",
    "for i in range(8):\n",
    "    narr[i] = i\n",
    "narr"
   ]
  },
  {
   "cell_type": "code",
   "execution_count": 39,
   "id": "71a3213f",
   "metadata": {},
   "outputs": [
    {
     "data": {
      "text/plain": [
       "array([[5., 5., 5., 5.],\n",
       "       [3., 3., 3., 3.],\n",
       "       [1., 1., 1., 1.]])"
      ]
     },
     "execution_count": 39,
     "metadata": {},
     "output_type": "execute_result"
    }
   ],
   "source": [
    "#new_order = [4,3,0,6]\n",
    "narr[[4,3,0,6]]\n",
    "narr[[-3,-5,-7  ]]\n",
    "\n"
   ]
  },
  {
   "cell_type": "code",
   "execution_count": 40,
   "id": "5813f2b1",
   "metadata": {},
   "outputs": [
    {
     "data": {
      "text/plain": [
       "array([[ 0,  1,  2,  3,  4],\n",
       "       [ 5,  6,  7,  8,  9],\n",
       "       [10, 11, 12, 13, 14]])"
      ]
     },
     "execution_count": 40,
     "metadata": {},
     "output_type": "execute_result"
    }
   ],
   "source": [
    "arr = np.arange(15).reshape((3,5))\n",
    "arr"
   ]
  },
  {
   "cell_type": "code",
   "execution_count": 44,
   "id": "9df07d2d",
   "metadata": {},
   "outputs": [
    {
     "data": {
      "text/plain": [
       "array([[ 0,  1,  2,  3,  4],\n",
       "       [ 5,  6,  7,  8,  9],\n",
       "       [10, 11, 12, 13, 14]])"
      ]
     },
     "execution_count": 44,
     "metadata": {},
     "output_type": "execute_result"
    }
   ],
   "source": [
    "arr.transpose()\n",
    "arr.T\n",
    "arr"
   ]
  }
 ],
 "metadata": {
  "kernelspec": {
   "display_name": "pds",
   "language": "python",
   "name": "python3"
  },
  "language_info": {
   "codemirror_mode": {
    "name": "ipython",
    "version": 3
   },
   "file_extension": ".py",
   "mimetype": "text/x-python",
   "name": "python",
   "nbconvert_exporter": "python",
   "pygments_lexer": "ipython3",
   "version": "3.10.18"
  }
 },
 "nbformat": 4,
 "nbformat_minor": 5
}
