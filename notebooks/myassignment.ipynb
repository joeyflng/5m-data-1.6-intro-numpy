{
 "cells": [
  {
   "cell_type": "markdown",
   "id": "39e10b9c",
   "metadata": {},
   "source": [
    "# Assignment\n",
    "\n",
    "## Brief\n",
    "\n",
    "Write the Python codes for the following questions.\n",
    "\n",
    "## Instructions\n",
    "\n",
    "Paste the answer as Python in the answer code section below each question.\n",
    "\n",
    "### Question 1\n",
    "\n",
    "Given the following numpy array:\n",
    "```python\n",
    "arr = np.array([1, 2, 3, 4, 5])\n",
    "```\n",
    "Write a Python code to multiply each element in the array by 2.\n",
    "\n",
    "Answer:"
   ]
  },
  {
   "cell_type": "code",
   "execution_count": 7,
   "id": "6baf0698",
   "metadata": {},
   "outputs": [
    {
     "data": {
      "text/plain": [
       "array([ 2,  4,  6,  8, 10])"
      ]
     },
     "execution_count": 7,
     "metadata": {},
     "output_type": "execute_result"
    }
   ],
   "source": [
    "\n",
    "import numpy as np\n",
    "arr = np.array([1, 2, 3, 4, 5])\n",
    "arr = arr * 2\n",
    "arr\n"
   ]
  },
  {
   "cell_type": "markdown",
   "id": "9193fdef",
   "metadata": {},
   "source": [
    "### Question 2\n",
    "\n",
    "Given the following 2D numpy array:\n",
    "\n",
    "```python\n",
    "arr = np.array([[1, 2, 3], [4, 5, 6], [7, 8, 9]])\n",
    "```\n",
    "\n",
    "Write a Python code to select the second row of the array.\n",
    "\n",
    "Answer:"
   ]
  },
  {
   "cell_type": "code",
   "execution_count": 8,
   "id": "769bdd33",
   "metadata": {},
   "outputs": [
    {
     "data": {
      "text/plain": [
       "array([4, 5, 6])"
      ]
     },
     "execution_count": 8,
     "metadata": {},
     "output_type": "execute_result"
    }
   ],
   "source": [
    "arr = np.array([[1, 2, 3], [4, 5, 6], [7, 8, 9]])\n",
    "arr [1]\n",
    "\n"
   ]
  },
  {
   "cell_type": "markdown",
   "id": "6507c706",
   "metadata": {},
   "source": [
    "### Question 3\n",
    "\n",
    "Create a 2D numpy array of shape (5, 5) filled with the number 1.\n",
    "\n",
    "Answer:"
   ]
  },
  {
   "cell_type": "code",
   "execution_count": 9,
   "id": "5502cfa4",
   "metadata": {},
   "outputs": [
    {
     "data": {
      "text/plain": [
       "array([[1., 1., 1., 1., 1.],\n",
       "       [1., 1., 1., 1., 1.],\n",
       "       [1., 1., 1., 1., 1.],\n",
       "       [1., 1., 1., 1., 1.],\n",
       "       [1., 1., 1., 1., 1.]])"
      ]
     },
     "execution_count": 9,
     "metadata": {},
     "output_type": "execute_result"
    }
   ],
   "source": [
    "arr = np.ones((5,5))\n",
    "arr"
   ]
  },
  {
   "cell_type": "markdown",
   "id": "a868d766",
   "metadata": {},
   "source": [
    "### Question 4\n",
    "\n",
    "Given the following 2D numpy array:\n",
    "\n",
    "```python\n",
    "arr = np.array([[1, 2, 3], [4, 5, 6], [7, 8, 9]])\n",
    "```\n",
    "\n",
    "Write a Python code to calculate the sum of all the elements in each row.\n",
    "\n",
    "Answer:"
   ]
  },
  {
   "cell_type": "code",
   "execution_count": 10,
   "id": "43d7bfb3",
   "metadata": {},
   "outputs": [
    {
     "data": {
      "text/plain": [
       "array([5., 5., 5., 5., 5.])"
      ]
     },
     "execution_count": 10,
     "metadata": {},
     "output_type": "execute_result"
    }
   ],
   "source": [
    "arr.sum(axis=1)"
   ]
  },
  {
   "cell_type": "markdown",
   "id": "95710410",
   "metadata": {},
   "source": [
    "### Question 5\n",
    "\n",
    "Given the following 2D numpy array:\n",
    "\n",
    "```python\n",
    "arr = np.array([[1, 2, 3], [4, 5, 6], [7, 8, 9]])\n",
    "```\n",
    "\n",
    "Write a Python code to calculate the average of all the elements.\n",
    "\n",
    "Answer:"
   ]
  },
  {
   "cell_type": "code",
   "execution_count": 11,
   "id": "24c42bf6",
   "metadata": {},
   "outputs": [
    {
     "data": {
      "text/plain": [
       "1.0"
      ]
     },
     "execution_count": 11,
     "metadata": {},
     "output_type": "execute_result"
    }
   ],
   "source": [
    "arr.mean()"
   ]
  }
 ],
 "metadata": {
  "kernelspec": {
   "display_name": "pds",
   "language": "python",
   "name": "python3"
  },
  "language_info": {
   "codemirror_mode": {
    "name": "ipython",
    "version": 3
   },
   "file_extension": ".py",
   "mimetype": "text/x-python",
   "name": "python",
   "nbconvert_exporter": "python",
   "pygments_lexer": "ipython3",
   "version": "3.10.18"
  }
 },
 "nbformat": 4,
 "nbformat_minor": 5
}
